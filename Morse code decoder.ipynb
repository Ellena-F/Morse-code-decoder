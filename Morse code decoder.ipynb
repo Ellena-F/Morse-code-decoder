{
 "cells": [
  {
   "cell_type": "markdown",
   "metadata": {},
   "source": [
    "# Morse code decoder"
   ]
  },
  {
   "cell_type": "code",
   "execution_count": 3,
   "metadata": {},
   "outputs": [
    {
     "name": "stdout",
     "output_type": "stream",
     "text": [
      "Enter your Morse Code sequence here:6\n",
      "The morse code sequence 6 represents 'invalid entry' \n",
      "The invalid entries are: ['6']\n",
      "Enter your Morse Code sequence here:2\n",
      "The morse code sequence 2 represents 'invalid entry' \n",
      "The invalid entries are: ['2']\n",
      "Enter your Morse Code sequence here:01\n",
      "The morse code sequence 01 represents A \n",
      "The invalid entries are: []\n",
      "Enter your Morse Code sequence here:1000*01***01\n",
      "The morse code sequence 1000*01***01 represents BA A \n",
      "The invalid entries are: []\n",
      "Enter your Morse Code sequence here:theend!\n"
     ]
    }
   ],
   "source": [
    "#Create a Morse Code dictionary \n",
    "morse_code_dict = {'01': 'A', '1000': 'B', '1010': 'C', '100': 'D', '0': 'E', '0010': 'F', '110': 'G',\n",
    "                 '0000': 'H', '00': 'I', '0111': 'J', '101': 'K', '0100': 'L', '11': 'M', '10': 'N',\n",
    "                 '111': 'O', '0110': 'P', '1101': 'Q', '010': 'R', '000': 'S', '1': 'T', '001': 'U',\n",
    "                 '0001': 'V', '011': 'W', '1001': 'X', '1011': 'Y', '1100': 'Z', '11111': '0',\n",
    "                 '01111': '1', '00111': '2', '00011': '3', '00001': '4', '00000': '5', '10000': '6',\n",
    "                 '11000': '7', '11100': '8', '11110': '9'}\n",
    "#Create an empty list for sequence list and define code.\n",
    "sequence_list = []\n",
    "code = \"\"\n",
    "\n",
    "#Create a loop for user to enter as much input as they want till they type theend!\n",
    "#Define trans.\n",
    "#Divide sequence input separately word by word with ***.\n",
    "#Create a list called invalid for invalid sequence entry. \n",
    "\n",
    "while code != \"theend!\":\n",
    "    \n",
    "    code = input(\"Enter your Morse Code sequence here:\")\n",
    "    trans = ''\n",
    "    word = code.split(\"***\")\n",
    "    invalid = []\n",
    "    if code == 'theend!':\n",
    "        break \n",
    "     \n",
    " #Divide word separately character by character with * with for loop. \n",
    "#Decode user's sequence input word by word and character by character.\n",
    "#if it is a single character in a word, i.e. no * in element, decode character with a space follow.\n",
    "# if it is a word with multiples characters, i.e. * in one element; encode character separately with * as divider.\n",
    "#If user's input is not on dictionary, it will be called as invalid entry.\n",
    "#Invalid entries will be add to invalid list.\n",
    "\n",
    "    for element in word:\n",
    "        \n",
    "        if not \"*\" in element:\n",
    "            trans += morse_code_dict.get(element, \"'invalid entry'\") + \" \"\n",
    "            if morse_code_dict.get(element) == None:\n",
    "                invalid.append(element)    \n",
    "\n",
    "        else:\n",
    "            multiple = element.split(\"*\")\n",
    "            for characters in multiple:\n",
    "                trans += morse_code_dict.get(characters, \"'invalid entry'\") \n",
    "                if morse_code_dict.get(characters) == None:\n",
    "                    invalid.append(characters)\n",
    "            \n",
    "            trans += \" \"\n",
    "            \n",
    " #Print user's input with decoded characters.\n",
    "#Print invalid entry list.\n",
    "    print ('The morse code sequence', code, 'represents' , trans)\n",
    "    print(\"The invalid entries are:\",invalid)\n",
    "    "
   ]
  },
  {
   "cell_type": "markdown",
   "metadata": {},
   "source": [
    "# Morse code decoder and frequency counter"
   ]
  },
  {
   "cell_type": "code",
   "execution_count": 4,
   "metadata": {},
   "outputs": [
    {
     "name": "stdout",
     "output_type": "stream",
     "text": [
      "Enter your Morse Code sequence here:01*1000\n",
      "The morse code sequence: 01*1000 represents AB \n",
      "{'A': 1, 'B': 1, 'C': 0, 'D': 0, 'E': 0, 'F': 0, 'G': 0, 'H': 0, 'I': 0, 'J': 0, 'K': 0, 'L': 0, 'M': 0, 'N': 0, 'O': 0, 'P': 0, 'Q': 0, 'R': 0, 'S': 0, 'T': 0, 'U': 0, 'V': 0, 'W': 0, 'X': 0, 'Y': 0, 'Z': 0, '1': 0, '2': 0, '3': 0, '4': 0, '5': 0, '6': 0, '7': 0, '8': 0, '9': 0, '0': 0}\n",
      "Enter your Morse Code sequence here:theend!\n"
     ]
    }
   ],
   "source": [
    "#Create an empty list for sequence list and define code.\n",
    "sequence_list = []\n",
    "code = \"\"\n",
    "\n",
    "#Create a list called alphano with letter A to Z and digit 0 to 9\n",
    "alphano = ['A', 'B', 'C', 'D', 'E', 'F', 'G', 'H', 'I', 'J', \n",
    "          'K', 'L', 'M', 'N', 'O', 'P', 'Q', 'R', 'S', 'T', \n",
    "          'U', 'V', 'W', 'X', 'Y', 'Z','1','2','3','4','5',\n",
    "         '6','7','8','9','0']\n",
    "\n",
    "#Create a loop for user to enter as much input as they want till they type theend!\n",
    "#Define trans.\n",
    "#Divide sequence input separately word by word with ***.\n",
    "#Create a list called invalid for invalid sequence entry. \n",
    "\n",
    "while code != \"theend!\":\n",
    "    trans = ''\n",
    "    code = input(\"Enter your Morse Code sequence here:\")\n",
    "    word = code.split(\"***\")\n",
    "    invalid = []\n",
    "    if code == 'theend!':\n",
    "        break \n",
    "     \n",
    " #Divide word separately character by character with * with for loop. \n",
    "#Decode user's sequence input word by word and character by character.\n",
    "#if it is a single character in a word, i.e. no * in element, decode character with a space follow.\n",
    "# if it is a word with multiples characters, i.e. * in one element; encode character separately with * as divider.\n",
    "#If user's input is not on dictionary, it will be called as invalid entry.\n",
    "#Invalid entries will be add to a list called invalid.\n",
    "    \n",
    "    for element in word:\n",
    "        if not \"*\" in element:\n",
    "            trans += morse_code_dict.get(element, \"'invalid entry'\") + \" \"\n",
    "            if morse_code_dict.get(element) == None:\n",
    "                invalid.append(element)\n",
    "        else:\n",
    "            multiple = element.split(\"*\")\n",
    "            for characters in multiple:\n",
    "                trans += morse_code_dict.get(characters, \"'invalid entry'\")\n",
    "                if morse_code_dict.get(characters) == None:\n",
    "                    invalid.append(characters)\n",
    "                    \n",
    "            trans += \" \"\n",
    "            \n",
    "#Print user's input with decoded characters.\n",
    "\n",
    "    print ('The morse code sequence:', code, 'represents' , trans)\n",
    "\n",
    "#Create a list called count, to count the occurences of each characters.\n",
    "\n",
    "    count = [0] * 36\n",
    "\n",
    "#Create a for loop to count the occurences of each characters.\n",
    "#Combined the characters and occurences of characters in a set.\n",
    "#Create a dictionary with a list of characters and occurences.\n",
    "    \n",
    "    for character in trans:\n",
    "        if character in alphano:\n",
    "            count[alphano.index(character)] += 1\n",
    "        \n",
    "    zipped = zip(alphano,count)\n",
    "\n",
    "    new_dict = dict(list(zipped))\n",
    "\n",
    "#print the occurences for each characters.\n",
    "\n",
    "    print (new_dict)"
   ]
  }
 ],
 "metadata": {
  "kernelspec": {
   "display_name": "Python 3",
   "language": "python",
   "name": "python3"
  },
  "language_info": {
   "codemirror_mode": {
    "name": "ipython",
    "version": 3
   },
   "file_extension": ".py",
   "mimetype": "text/x-python",
   "name": "python",
   "nbconvert_exporter": "python",
   "pygments_lexer": "ipython3",
   "version": "3.7.3"
  }
 },
 "nbformat": 4,
 "nbformat_minor": 2
}
